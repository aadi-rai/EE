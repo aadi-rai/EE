{
 "cells": [
  {
   "cell_type": "code",
   "execution_count": null,
   "id": "f1561885",
   "metadata": {},
   "outputs": [],
   "source": [
    "from py_wake.examples.data.iea37 import IEA37_WindTurbines, IEA37Site\n",
    "from py_wake.literature import Jensen_1983"
   ]
  },
  {
   "cell_type": "code",
   "execution_count": null,
   "id": "63ced5bc",
   "metadata": {},
   "outputs": [],
   "source": [
    "site = IEA37Site()\n",
    "windTurbines = IEA37_WindTurbines()\n",
    "\n",
    "wf_model = Jensen_1983(site, windTurbines)"
   ]
  },
  {
   "cell_type": "code",
   "execution_count": null,
   "id": "dc057c70",
   "metadata": {},
   "outputs": [],
   "source": [
    "x, y = site.initial_position.T\n",
    "sim_res = wf_model(x, y)"
   ]
  },
  {
   "cell_type": "code",
   "execution_count": null,
   "id": "543a4f6f",
   "metadata": {},
   "outputs": [],
   "source": [
    "print('Total power: %f GWh'%sim_res.aep().sum().values)"
   ]
  }
 ],
 "metadata": {
  "kernelspec": {
   "display_name": ".venv",
   "language": "python",
   "name": "python3"
  },
  "language_info": {
   "codemirror_mode": {
    "name": "ipython",
    "version": 3
   },
   "file_extension": ".py",
   "mimetype": "text/x-python",
   "name": "python",
   "nbconvert_exporter": "python",
   "pygments_lexer": "ipython3",
   "version": "3.10.17"
  }
 },
 "nbformat": 4,
 "nbformat_minor": 5
}
