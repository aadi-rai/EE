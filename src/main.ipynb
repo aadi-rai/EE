{
 "cells": [
  {
   "cell_type": "code",
   "execution_count": null,
   "id": "d2ef5746",
   "metadata": {},
   "outputs": [],
   "source": [
    "import random\n",
    "\n",
    "import matplotlib.pyplot as plt\n",
    "\n",
    "import networkx as nx\n",
    "\n",
    "from deap_er import base, creator, tools\n",
    "\n",
    "from py_wake.examples.data.iea37 import IEA37_WindTurbines, IEA37Site\n",
    "from py_wake.literature import Jensen_1983\n",
    "\n",
    "from IPython.display import clear_output\n",
    "\n",
    "from time import sleep\n",
    "\n",
    "from evolve import evolve"
   ]
  },
  {
   "cell_type": "code",
   "execution_count": null,
   "id": "9e399aae",
   "metadata": {},
   "outputs": [],
   "source": [
    "site = IEA37Site()\n",
    "wind_directions = range(0, 360, 10)\n",
    "wind_probabilities = [1 / len(wind_directions)] * len(wind_directions)\n",
    "\n",
    "site.default_wd = wind_directions\n",
    "site.default_wd_probabilities = wind_probabilities  \n",
    "\n",
    "pairs = IEA37_WindTurbines()\n",
    "\n",
    "model = Jensen_1983(site, pairs)"
   ]
  },
  {
   "cell_type": "code",
   "execution_count": null,
   "id": "2b2614e8",
   "metadata": {},
   "outputs": [],
   "source": [
    "creator.create(\"FitnessMulti\", base.Fitness, weights=(1.0, -1.0))\n",
    "creator.create(\"Individual\", list, fitness=creator.FitnessMulti )"
   ]
  },
  {
   "cell_type": "code",
   "execution_count": null,
   "id": "80787893",
   "metadata": {},
   "outputs": [],
   "source": [
    "toolbox = base.Toolbox()\n",
    "\n",
    "boundary_length = site.boundary_radius / (2 ** 0.5)\n",
    "toolbox.register(\"attr_coordinate\", random.uniform, -boundary_length, boundary_length)\n",
    "\n",
    "MIN_TURBINES = 2\n",
    "MAX_TURBINES = 9\n",
    "def individual():\n",
    "    num_attrs = random.randint(MIN_TURBINES, MAX_TURBINES) * 2\n",
    "    return creator.Individual(\n",
    "        [toolbox.attr_coordinate() for _ in range(num_attrs)]\n",
    "    )\n",
    "toolbox.register(\"individual\", individual)\n",
    "\n",
    "toolbox.register(\"population\", tools.init_repeat, list, toolbox.individual)"
   ]
  },
  {
   "cell_type": "code",
   "execution_count": null,
   "id": "c874ea28",
   "metadata": {},
   "outputs": [],
   "source": [
    "COST_PER_TURBINE = 2_000_000\n",
    "COST_PER_METER_WIRING = 50\n",
    "\n",
    "def euclidean_distance(x1, y1, x2, y2):\n",
    "    return ((x2 - x1) ** 2 + (y2 - y1) ** 2) ** 0.5\n",
    "\n",
    "def evaluate(ind):\n",
    "    x, y = ind[::2], ind[1::2]\n",
    "    result = model(x, y)\n",
    "    aep_gwh = result.aep().sum().values\n",
    "\n",
    "    total_turbine_cost = COST_PER_TURBINE * len(ind) / 2\n",
    "    \n",
    "    graph = nx.Graph()\n",
    "\n",
    "    pairs = list(zip(x, y))\n",
    "    for a, p in enumerate(pairs):\n",
    "        graph.add_node(a, pos=p)\n",
    "\n",
    "    for a in range(len(pairs)):\n",
    "        for b in range(a + 1, len(pairs)):\n",
    "            x1, y1 = pairs[a]\n",
    "            x2, y2 = pairs[b]\n",
    "            dist = euclidean_distance(x1, y1, x2, y2)\n",
    "            graph.add_edge(a, b, dist=dist)\n",
    "\n",
    "    mst = nx.minimum_spanning_tree(graph, weight='dist')\n",
    "    total_wiring_cost = mst.size(weight=\"dist\") * COST_PER_METER_WIRING\n",
    "\n",
    "    return aep_gwh * 1_000_000, total_turbine_cost + total_wiring_cost\n",
    "\n",
    "toolbox.register(\"evaluate\", evaluate)"
   ]
  },
  {
   "cell_type": "code",
   "execution_count": null,
   "id": "26fd1598",
   "metadata": {},
   "outputs": [],
   "source": [
    "\n",
    "def mutate(ind):\n",
    "    if random.random() < 0.8:\n",
    "        ind, = tools.mut_gaussian(ind, 0, 0.5 * site.boundary_radius, 10.0 / len(ind))\n",
    "        for i, coordinate in enumerate(ind):\n",
    "            if coordinate < -boundary_length:\n",
    "                ind[i] = -boundary_length\n",
    "            elif coordinate > boundary_length:\n",
    "                ind[i] = boundary_length\n",
    "    else:\n",
    "        if (random.random() < 0.5 and len(ind) < MAX_TURBINES * 2) or len(ind) == MIN_TURBINES * 2:\n",
    "            for _ in range(2):\n",
    "                ind.append(toolbox.attr_coordinate())\n",
    "        else:\n",
    "            del ind[-2:]\n",
    "    # eliminate repeats\n",
    "    pairs = list(zip(ind[::2], ind[1::2]))\n",
    "    while len(set(pairs)) != len(pairs):\n",
    "        for i, coordinate in enumerate(ind):\n",
    "            ind[i] += i\n",
    "        pairs = list(zip(ind[::2], ind[1::2]))\n",
    "    return ind,\n",
    "\n",
    "toolbox.register(\"mutate\", mutate)"
   ]
  },
  {
   "cell_type": "code",
   "execution_count": null,
   "id": "5e3fffbf",
   "metadata": {},
   "outputs": [],
   "source": [
    "toolbox.register(\"select\", tools.sel_tournament, contestants=4)\n",
    "toolbox.register(\"mate\", tools.cx_two_point)"
   ]
  },
  {
   "cell_type": "code",
   "execution_count": null,
   "id": "d80badc0",
   "metadata": {},
   "outputs": [],
   "source": [
    "NUM_GEN = 100\n",
    "POP_SIZE = 100\n",
    "PC = 0.0\n",
    "PM = 0.7\n",
    "\n",
    "pop = toolbox.population(POP_SIZE)\n",
    "pop, logbook = evolve(toolbox, pop, pc=PC, pm=PM, num_elitism=round(POP_SIZE * 0.1), num_gen=NUM_GEN)    "
   ]
  },
  {
   "cell_type": "code",
   "execution_count": null,
   "id": "4849d530",
   "metadata": {},
   "outputs": [],
   "source": [
    "pareto_front = logbook.select(\"pareto_front\")[-1]\n",
    "\n",
    "for ind in pareto_front:\n",
    "    x, y = ind[::2], ind[1::2]\n",
    "    plt.xlim(-boundary_length, boundary_length)\n",
    "    plt.ylim(-boundary_length, boundary_length)\n",
    "    plt.scatter(x, y)\n",
    "    plt.show()"
   ]
  },
  {
   "cell_type": "code",
   "execution_count": null,
   "id": "a6d848be",
   "metadata": {},
   "outputs": [],
   "source": [
    "pfs = logbook.select(\"pareto_front\")\n",
    "\n",
    "for pf in pfs:\n",
    "    x=[]\n",
    "    y=[]\n",
    "    for ind in pf:\n",
    "        x.append(ind.fitness.values[0])\n",
    "        y.append(ind.fitness.values[1])\n",
    "    plt.ylim(0, 3 * 10**7)\n",
    "    plt.xlim(0, 3 * 10**8) \n",
    "    plt.scatter(x, y)\n",
    "    plt.show()\n",
    "    "
   ]
  }
 ],
 "metadata": {
  "kernelspec": {
   "display_name": ".venv",
   "language": "python",
   "name": "python3"
  },
  "language_info": {
   "codemirror_mode": {
    "name": "ipython",
    "version": 3
   },
   "file_extension": ".py",
   "mimetype": "text/x-python",
   "name": "python",
   "nbconvert_exporter": "python",
   "pygments_lexer": "ipython3",
   "version": "3.10.17"
  }
 },
 "nbformat": 4,
 "nbformat_minor": 5
}
